{
 "cells": [
  {
   "cell_type": "code",
   "execution_count": 1,
   "metadata": {
    "_uuid": "43f2cbb55a0f5e95b02c7ee99d9e416f83836dfd",
    "colab": {},
    "colab_type": "code",
    "id": "CxF1GeSx3ctc"
   },
   "outputs": [],
   "source": [
    "import datetime as dt\n",
    "import pandas as pd\n",
    "import matplotlib.pyplot as plt\n",
    "import numpy as np\n",
    "import seaborn as sns\n",
    "# from mpl_toolkits.basemap import Basemap\n",
    "from sklearn.model_selection import TimeSeriesSplit\n",
    "plt.style.use('ggplot')\n",
    "%config InlineBackend.figure_format = 'retina'\n",
    "import warnings\n",
    "warnings.filterwarnings('ignore')"
   ]
  },
  {
   "cell_type": "code",
   "execution_count": 23,
   "metadata": {
    "colab": {
     "base_uri": "https://localhost:8080/",
     "height": 34
    },
    "colab_type": "code",
    "id": "qN7Vcg6j3ctx",
    "outputId": "eeded7a6-c7e0-4a82-98ef-bd66d7c13bc6"
   },
   "outputs": [
    {
     "name": "stdout",
     "output_type": "stream",
     "text": [
      "Loaded\n"
     ]
    }
   ],
   "source": [
    "accidents = pd.read_csv('accident.csv',index_col='accident_index')\n",
    "vehicles= pd.read_csv('vehicle.csv', error_bad_lines=False,index_col='accident_index',warn_bad_lines=False)\n",
    "casualties = pd.read_csv('casualty.csv', error_bad_lines=False, index_col='accident_index', warn_bad_lines=False)\n",
    "print('Loaded')"
   ]
  },
  {
   "cell_type": "code",
   "execution_count": 24,
   "metadata": {
    "_uuid": "d7ceba9967f9674832cb2d88396be5477b718ec4",
    "colab": {
     "base_uri": "https://localhost:8080/",
     "height": 352
    },
    "colab_type": "code",
    "id": "W76Qu8fG3ct1",
    "outputId": "96101f9d-2f55-485d-ee60-8ea732469802"
   },
   "outputs": [
    {
     "name": "stdout",
     "output_type": "stream",
     "text": [
      "accidents\n",
      "size= 19685365\n",
      "(562439, 35)\n"
     ]
    },
    {
     "data": {
      "text/html": [
       "<div>\n",
       "<style scoped>\n",
       "    .dataframe tbody tr th:only-of-type {\n",
       "        vertical-align: middle;\n",
       "    }\n",
       "\n",
       "    .dataframe tbody tr th {\n",
       "        vertical-align: top;\n",
       "    }\n",
       "\n",
       "    .dataframe thead th {\n",
       "        text-align: right;\n",
       "    }\n",
       "</style>\n",
       "<table border=\"1\" class=\"dataframe\">\n",
       "  <thead>\n",
       "    <tr style=\"text-align: right;\">\n",
       "      <th></th>\n",
       "      <th>accident_year</th>\n",
       "      <th>accident_reference</th>\n",
       "      <th>location_easting_osgr</th>\n",
       "      <th>location_northing_osgr</th>\n",
       "      <th>longitude</th>\n",
       "      <th>latitude</th>\n",
       "      <th>police_force</th>\n",
       "      <th>accident_severity</th>\n",
       "      <th>number_of_vehicles</th>\n",
       "      <th>number_of_casualties</th>\n",
       "      <th>...</th>\n",
       "      <th>pedestrian_crossing_physical_facilities</th>\n",
       "      <th>light_conditions</th>\n",
       "      <th>weather_conditions</th>\n",
       "      <th>road_surface_conditions</th>\n",
       "      <th>special_conditions_at_site</th>\n",
       "      <th>carriageway_hazards</th>\n",
       "      <th>urban_or_rural_area</th>\n",
       "      <th>did_police_officer_attend_scene_of_accident</th>\n",
       "      <th>trunk_road_flag</th>\n",
       "      <th>lsoa_of_accident_location</th>\n",
       "    </tr>\n",
       "    <tr>\n",
       "      <th>accident_index</th>\n",
       "      <th></th>\n",
       "      <th></th>\n",
       "      <th></th>\n",
       "      <th></th>\n",
       "      <th></th>\n",
       "      <th></th>\n",
       "      <th></th>\n",
       "      <th></th>\n",
       "      <th></th>\n",
       "      <th></th>\n",
       "      <th></th>\n",
       "      <th></th>\n",
       "      <th></th>\n",
       "      <th></th>\n",
       "      <th></th>\n",
       "      <th></th>\n",
       "      <th></th>\n",
       "      <th></th>\n",
       "      <th></th>\n",
       "      <th></th>\n",
       "      <th></th>\n",
       "    </tr>\n",
       "  </thead>\n",
       "  <tbody>\n",
       "    <tr>\n",
       "      <th>2017010001708</th>\n",
       "      <td>2017</td>\n",
       "      <td>10001708</td>\n",
       "      <td>532920.0</td>\n",
       "      <td>196330.0</td>\n",
       "      <td>-0.080107</td>\n",
       "      <td>51.650061</td>\n",
       "      <td>1</td>\n",
       "      <td>1</td>\n",
       "      <td>2</td>\n",
       "      <td>3</td>\n",
       "      <td>...</td>\n",
       "      <td>0</td>\n",
       "      <td>4</td>\n",
       "      <td>1</td>\n",
       "      <td>1</td>\n",
       "      <td>0</td>\n",
       "      <td>0</td>\n",
       "      <td>1</td>\n",
       "      <td>1</td>\n",
       "      <td>2</td>\n",
       "      <td>E01001450</td>\n",
       "    </tr>\n",
       "    <tr>\n",
       "      <th>2017010009342</th>\n",
       "      <td>2017</td>\n",
       "      <td>10009342</td>\n",
       "      <td>526790.0</td>\n",
       "      <td>181970.0</td>\n",
       "      <td>-0.173845</td>\n",
       "      <td>51.522425</td>\n",
       "      <td>1</td>\n",
       "      <td>3</td>\n",
       "      <td>2</td>\n",
       "      <td>1</td>\n",
       "      <td>...</td>\n",
       "      <td>0</td>\n",
       "      <td>4</td>\n",
       "      <td>1</td>\n",
       "      <td>2</td>\n",
       "      <td>0</td>\n",
       "      <td>0</td>\n",
       "      <td>1</td>\n",
       "      <td>1</td>\n",
       "      <td>2</td>\n",
       "      <td>E01004702</td>\n",
       "    </tr>\n",
       "    <tr>\n",
       "      <th>2017010009344</th>\n",
       "      <td>2017</td>\n",
       "      <td>10009344</td>\n",
       "      <td>535200.0</td>\n",
       "      <td>181260.0</td>\n",
       "      <td>-0.052969</td>\n",
       "      <td>51.514096</td>\n",
       "      <td>1</td>\n",
       "      <td>3</td>\n",
       "      <td>3</td>\n",
       "      <td>1</td>\n",
       "      <td>...</td>\n",
       "      <td>0</td>\n",
       "      <td>4</td>\n",
       "      <td>1</td>\n",
       "      <td>1</td>\n",
       "      <td>0</td>\n",
       "      <td>0</td>\n",
       "      <td>1</td>\n",
       "      <td>1</td>\n",
       "      <td>2</td>\n",
       "      <td>E01004298</td>\n",
       "    </tr>\n",
       "    <tr>\n",
       "      <th>2017010009348</th>\n",
       "      <td>2017</td>\n",
       "      <td>10009348</td>\n",
       "      <td>534340.0</td>\n",
       "      <td>193560.0</td>\n",
       "      <td>-0.060658</td>\n",
       "      <td>51.624832</td>\n",
       "      <td>1</td>\n",
       "      <td>3</td>\n",
       "      <td>2</td>\n",
       "      <td>1</td>\n",
       "      <td>...</td>\n",
       "      <td>4</td>\n",
       "      <td>4</td>\n",
       "      <td>2</td>\n",
       "      <td>2</td>\n",
       "      <td>0</td>\n",
       "      <td>0</td>\n",
       "      <td>1</td>\n",
       "      <td>1</td>\n",
       "      <td>2</td>\n",
       "      <td>E01001429</td>\n",
       "    </tr>\n",
       "    <tr>\n",
       "      <th>2017010009350</th>\n",
       "      <td>2017</td>\n",
       "      <td>10009350</td>\n",
       "      <td>533680.0</td>\n",
       "      <td>187820.0</td>\n",
       "      <td>-0.072372</td>\n",
       "      <td>51.573408</td>\n",
       "      <td>1</td>\n",
       "      <td>2</td>\n",
       "      <td>1</td>\n",
       "      <td>1</td>\n",
       "      <td>...</td>\n",
       "      <td>5</td>\n",
       "      <td>4</td>\n",
       "      <td>1</td>\n",
       "      <td>2</td>\n",
       "      <td>0</td>\n",
       "      <td>0</td>\n",
       "      <td>1</td>\n",
       "      <td>1</td>\n",
       "      <td>2</td>\n",
       "      <td>E01001808</td>\n",
       "    </tr>\n",
       "  </tbody>\n",
       "</table>\n",
       "<p>5 rows × 35 columns</p>\n",
       "</div>"
      ],
      "text/plain": [
       "                accident_year accident_reference  location_easting_osgr  \\\n",
       "accident_index                                                            \n",
       "2017010001708            2017           10001708               532920.0   \n",
       "2017010009342            2017           10009342               526790.0   \n",
       "2017010009344            2017           10009344               535200.0   \n",
       "2017010009348            2017           10009348               534340.0   \n",
       "2017010009350            2017           10009350               533680.0   \n",
       "\n",
       "                location_northing_osgr  longitude   latitude  police_force  \\\n",
       "accident_index                                                               \n",
       "2017010001708                 196330.0  -0.080107  51.650061             1   \n",
       "2017010009342                 181970.0  -0.173845  51.522425             1   \n",
       "2017010009344                 181260.0  -0.052969  51.514096             1   \n",
       "2017010009348                 193560.0  -0.060658  51.624832             1   \n",
       "2017010009350                 187820.0  -0.072372  51.573408             1   \n",
       "\n",
       "                accident_severity  number_of_vehicles  number_of_casualties  \\\n",
       "accident_index                                                                \n",
       "2017010001708                   1                   2                     3   \n",
       "2017010009342                   3                   2                     1   \n",
       "2017010009344                   3                   3                     1   \n",
       "2017010009348                   3                   2                     1   \n",
       "2017010009350                   2                   1                     1   \n",
       "\n",
       "                ... pedestrian_crossing_physical_facilities  light_conditions  \\\n",
       "accident_index  ...                                                             \n",
       "2017010001708   ...                                       0                 4   \n",
       "2017010009342   ...                                       0                 4   \n",
       "2017010009344   ...                                       0                 4   \n",
       "2017010009348   ...                                       4                 4   \n",
       "2017010009350   ...                                       5                 4   \n",
       "\n",
       "               weather_conditions  road_surface_conditions  \\\n",
       "accident_index                                               \n",
       "2017010001708                   1                        1   \n",
       "2017010009342                   1                        2   \n",
       "2017010009344                   1                        1   \n",
       "2017010009348                   2                        2   \n",
       "2017010009350                   1                        2   \n",
       "\n",
       "               special_conditions_at_site carriageway_hazards  \\\n",
       "accident_index                                                  \n",
       "2017010001708                           0                   0   \n",
       "2017010009342                           0                   0   \n",
       "2017010009344                           0                   0   \n",
       "2017010009348                           0                   0   \n",
       "2017010009350                           0                   0   \n",
       "\n",
       "                urban_or_rural_area  \\\n",
       "accident_index                        \n",
       "2017010001708                     1   \n",
       "2017010009342                     1   \n",
       "2017010009344                     1   \n",
       "2017010009348                     1   \n",
       "2017010009350                     1   \n",
       "\n",
       "                did_police_officer_attend_scene_of_accident  trunk_road_flag  \\\n",
       "accident_index                                                                 \n",
       "2017010001708                                             1                2   \n",
       "2017010009342                                             1                2   \n",
       "2017010009344                                             1                2   \n",
       "2017010009348                                             1                2   \n",
       "2017010009350                                             1                2   \n",
       "\n",
       "                lsoa_of_accident_location  \n",
       "accident_index                             \n",
       "2017010001708                   E01001450  \n",
       "2017010009342                   E01004702  \n",
       "2017010009344                   E01004298  \n",
       "2017010009348                   E01001429  \n",
       "2017010009350                   E01001808  \n",
       "\n",
       "[5 rows x 35 columns]"
      ]
     },
     "execution_count": 24,
     "metadata": {},
     "output_type": "execute_result"
    }
   ],
   "source": [
    "print(\"accidents\")\n",
    "print(\"size=\",accidents.size)\n",
    "print(accidents.shape)\n",
    "accidents.head()"
   ]
  },
  {
   "cell_type": "code",
   "execution_count": 25,
   "metadata": {
    "colab": {
     "base_uri": "https://localhost:8080/",
     "height": 352
    },
    "colab_type": "code",
    "id": "uC9FmdQ33ct5",
    "outputId": "e8f13886-ca84-4d16-dd94-64d98c13f577"
   },
   "outputs": [
    {
     "name": "stdout",
     "output_type": "stream",
     "text": [
      "vehicles\n",
      "size= 27959418\n",
      "(1035534, 27)\n"
     ]
    },
    {
     "data": {
      "text/html": [
       "<div>\n",
       "<style scoped>\n",
       "    .dataframe tbody tr th:only-of-type {\n",
       "        vertical-align: middle;\n",
       "    }\n",
       "\n",
       "    .dataframe tbody tr th {\n",
       "        vertical-align: top;\n",
       "    }\n",
       "\n",
       "    .dataframe thead th {\n",
       "        text-align: right;\n",
       "    }\n",
       "</style>\n",
       "<table border=\"1\" class=\"dataframe\">\n",
       "  <thead>\n",
       "    <tr style=\"text-align: right;\">\n",
       "      <th></th>\n",
       "      <th>accident_year</th>\n",
       "      <th>accident_reference</th>\n",
       "      <th>vehicle_reference</th>\n",
       "      <th>vehicle_type</th>\n",
       "      <th>towing_and_articulation</th>\n",
       "      <th>vehicle_manoeuvre</th>\n",
       "      <th>vehicle_direction_from</th>\n",
       "      <th>vehicle_direction_to</th>\n",
       "      <th>vehicle_location_restricted_lane</th>\n",
       "      <th>junction_location</th>\n",
       "      <th>...</th>\n",
       "      <th>sex_of_driver</th>\n",
       "      <th>age_of_driver</th>\n",
       "      <th>age_band_of_driver</th>\n",
       "      <th>engine_capacity_cc</th>\n",
       "      <th>propulsion_code</th>\n",
       "      <th>age_of_vehicle</th>\n",
       "      <th>generic_make_model</th>\n",
       "      <th>driver_imd_decile</th>\n",
       "      <th>driver_home_area_type</th>\n",
       "      <th>lsoa_of_driver</th>\n",
       "    </tr>\n",
       "    <tr>\n",
       "      <th>accident_index</th>\n",
       "      <th></th>\n",
       "      <th></th>\n",
       "      <th></th>\n",
       "      <th></th>\n",
       "      <th></th>\n",
       "      <th></th>\n",
       "      <th></th>\n",
       "      <th></th>\n",
       "      <th></th>\n",
       "      <th></th>\n",
       "      <th></th>\n",
       "      <th></th>\n",
       "      <th></th>\n",
       "      <th></th>\n",
       "      <th></th>\n",
       "      <th></th>\n",
       "      <th></th>\n",
       "      <th></th>\n",
       "      <th></th>\n",
       "      <th></th>\n",
       "      <th></th>\n",
       "    </tr>\n",
       "  </thead>\n",
       "  <tbody>\n",
       "    <tr>\n",
       "      <th>2017010001708</th>\n",
       "      <td>2017</td>\n",
       "      <td>10001708</td>\n",
       "      <td>1</td>\n",
       "      <td>9</td>\n",
       "      <td>0</td>\n",
       "      <td>18</td>\n",
       "      <td>1</td>\n",
       "      <td>5</td>\n",
       "      <td>0</td>\n",
       "      <td>0</td>\n",
       "      <td>...</td>\n",
       "      <td>1</td>\n",
       "      <td>24</td>\n",
       "      <td>5</td>\n",
       "      <td>1997</td>\n",
       "      <td>2</td>\n",
       "      <td>1</td>\n",
       "      <td>-1</td>\n",
       "      <td>-1</td>\n",
       "      <td>-1</td>\n",
       "      <td>-1</td>\n",
       "    </tr>\n",
       "    <tr>\n",
       "      <th>2017010001708</th>\n",
       "      <td>2017</td>\n",
       "      <td>10001708</td>\n",
       "      <td>2</td>\n",
       "      <td>2</td>\n",
       "      <td>0</td>\n",
       "      <td>18</td>\n",
       "      <td>1</td>\n",
       "      <td>5</td>\n",
       "      <td>0</td>\n",
       "      <td>0</td>\n",
       "      <td>...</td>\n",
       "      <td>1</td>\n",
       "      <td>19</td>\n",
       "      <td>4</td>\n",
       "      <td>-1</td>\n",
       "      <td>-1</td>\n",
       "      <td>-1</td>\n",
       "      <td>-1</td>\n",
       "      <td>-1</td>\n",
       "      <td>-1</td>\n",
       "      <td>-1</td>\n",
       "    </tr>\n",
       "    <tr>\n",
       "      <th>2017010009342</th>\n",
       "      <td>2017</td>\n",
       "      <td>10009342</td>\n",
       "      <td>1</td>\n",
       "      <td>9</td>\n",
       "      <td>0</td>\n",
       "      <td>18</td>\n",
       "      <td>5</td>\n",
       "      <td>1</td>\n",
       "      <td>0</td>\n",
       "      <td>1</td>\n",
       "      <td>...</td>\n",
       "      <td>1</td>\n",
       "      <td>33</td>\n",
       "      <td>6</td>\n",
       "      <td>1797</td>\n",
       "      <td>8</td>\n",
       "      <td>8</td>\n",
       "      <td>-1</td>\n",
       "      <td>9</td>\n",
       "      <td>1</td>\n",
       "      <td>E01023674</td>\n",
       "    </tr>\n",
       "    <tr>\n",
       "      <th>2017010009342</th>\n",
       "      <td>2017</td>\n",
       "      <td>10009342</td>\n",
       "      <td>2</td>\n",
       "      <td>9</td>\n",
       "      <td>0</td>\n",
       "      <td>18</td>\n",
       "      <td>5</td>\n",
       "      <td>1</td>\n",
       "      <td>0</td>\n",
       "      <td>1</td>\n",
       "      <td>...</td>\n",
       "      <td>1</td>\n",
       "      <td>40</td>\n",
       "      <td>7</td>\n",
       "      <td>2204</td>\n",
       "      <td>2</td>\n",
       "      <td>12</td>\n",
       "      <td>-1</td>\n",
       "      <td>2</td>\n",
       "      <td>1</td>\n",
       "      <td>E01004755</td>\n",
       "    </tr>\n",
       "    <tr>\n",
       "      <th>2017010009344</th>\n",
       "      <td>2017</td>\n",
       "      <td>10009344</td>\n",
       "      <td>1</td>\n",
       "      <td>9</td>\n",
       "      <td>0</td>\n",
       "      <td>18</td>\n",
       "      <td>3</td>\n",
       "      <td>7</td>\n",
       "      <td>0</td>\n",
       "      <td>1</td>\n",
       "      <td>...</td>\n",
       "      <td>3</td>\n",
       "      <td>-1</td>\n",
       "      <td>-1</td>\n",
       "      <td>-1</td>\n",
       "      <td>-1</td>\n",
       "      <td>-1</td>\n",
       "      <td>-1</td>\n",
       "      <td>-1</td>\n",
       "      <td>-1</td>\n",
       "      <td>-1</td>\n",
       "    </tr>\n",
       "  </tbody>\n",
       "</table>\n",
       "<p>5 rows × 27 columns</p>\n",
       "</div>"
      ],
      "text/plain": [
       "                accident_year accident_reference  vehicle_reference  \\\n",
       "accident_index                                                        \n",
       "2017010001708            2017           10001708                  1   \n",
       "2017010001708            2017           10001708                  2   \n",
       "2017010009342            2017           10009342                  1   \n",
       "2017010009342            2017           10009342                  2   \n",
       "2017010009344            2017           10009344                  1   \n",
       "\n",
       "                vehicle_type  towing_and_articulation  vehicle_manoeuvre  \\\n",
       "accident_index                                                             \n",
       "2017010001708              9                        0                 18   \n",
       "2017010001708              2                        0                 18   \n",
       "2017010009342              9                        0                 18   \n",
       "2017010009342              9                        0                 18   \n",
       "2017010009344              9                        0                 18   \n",
       "\n",
       "                vehicle_direction_from  vehicle_direction_to  \\\n",
       "accident_index                                                 \n",
       "2017010001708                        1                     5   \n",
       "2017010001708                        1                     5   \n",
       "2017010009342                        5                     1   \n",
       "2017010009342                        5                     1   \n",
       "2017010009344                        3                     7   \n",
       "\n",
       "                vehicle_location_restricted_lane  junction_location  ...  \\\n",
       "accident_index                                                       ...   \n",
       "2017010001708                                  0                  0  ...   \n",
       "2017010001708                                  0                  0  ...   \n",
       "2017010009342                                  0                  1  ...   \n",
       "2017010009342                                  0                  1  ...   \n",
       "2017010009344                                  0                  1  ...   \n",
       "\n",
       "                sex_of_driver  age_of_driver  age_band_of_driver  \\\n",
       "accident_index                                                     \n",
       "2017010001708               1             24                   5   \n",
       "2017010001708               1             19                   4   \n",
       "2017010009342               1             33                   6   \n",
       "2017010009342               1             40                   7   \n",
       "2017010009344               3             -1                  -1   \n",
       "\n",
       "                engine_capacity_cc  propulsion_code  age_of_vehicle  \\\n",
       "accident_index                                                        \n",
       "2017010001708                 1997                2               1   \n",
       "2017010001708                   -1               -1              -1   \n",
       "2017010009342                 1797                8               8   \n",
       "2017010009342                 2204                2              12   \n",
       "2017010009344                   -1               -1              -1   \n",
       "\n",
       "                generic_make_model  driver_imd_decile  driver_home_area_type  \\\n",
       "accident_index                                                                 \n",
       "2017010001708                   -1                 -1                     -1   \n",
       "2017010001708                   -1                 -1                     -1   \n",
       "2017010009342                   -1                  9                      1   \n",
       "2017010009342                   -1                  2                      1   \n",
       "2017010009344                   -1                 -1                     -1   \n",
       "\n",
       "                lsoa_of_driver  \n",
       "accident_index                  \n",
       "2017010001708               -1  \n",
       "2017010001708               -1  \n",
       "2017010009342        E01023674  \n",
       "2017010009342        E01004755  \n",
       "2017010009344               -1  \n",
       "\n",
       "[5 rows x 27 columns]"
      ]
     },
     "execution_count": 25,
     "metadata": {},
     "output_type": "execute_result"
    }
   ],
   "source": [
    "print(\"vehicles\")\n",
    "print(\"size=\",vehicles.size)\n",
    "print(vehicles.shape)\n",
    "vehicles.head()"
   ]
  },
  {
   "cell_type": "code",
   "execution_count": 26,
   "metadata": {
    "colab": {
     "base_uri": "https://localhost:8080/",
     "height": 306
    },
    "colab_type": "code",
    "id": "zVQ_NruA3ct9",
    "outputId": "02cecc70-dd44-42be-9edb-30bd4f8815be"
   },
   "outputs": [
    {
     "name": "stdout",
     "output_type": "stream",
     "text": [
      "casualties\n",
      "size= 13113738\n",
      "(728541, 18)\n"
     ]
    },
    {
     "data": {
      "text/html": [
       "<div>\n",
       "<style scoped>\n",
       "    .dataframe tbody tr th:only-of-type {\n",
       "        vertical-align: middle;\n",
       "    }\n",
       "\n",
       "    .dataframe tbody tr th {\n",
       "        vertical-align: top;\n",
       "    }\n",
       "\n",
       "    .dataframe thead th {\n",
       "        text-align: right;\n",
       "    }\n",
       "</style>\n",
       "<table border=\"1\" class=\"dataframe\">\n",
       "  <thead>\n",
       "    <tr style=\"text-align: right;\">\n",
       "      <th></th>\n",
       "      <th>accident_year</th>\n",
       "      <th>accident_reference</th>\n",
       "      <th>vehicle_reference</th>\n",
       "      <th>casualty_reference</th>\n",
       "      <th>casualty_class</th>\n",
       "      <th>sex_of_casualty</th>\n",
       "      <th>age_of_casualty</th>\n",
       "      <th>age_band_of_casualty</th>\n",
       "      <th>casualty_severity</th>\n",
       "      <th>pedestrian_location</th>\n",
       "      <th>pedestrian_movement</th>\n",
       "      <th>car_passenger</th>\n",
       "      <th>bus_or_coach_passenger</th>\n",
       "      <th>pedestrian_road_maintenance_worker</th>\n",
       "      <th>casualty_type</th>\n",
       "      <th>casualty_home_area_type</th>\n",
       "      <th>casualty_imd_decile</th>\n",
       "      <th>lsoa_of_casualty</th>\n",
       "    </tr>\n",
       "    <tr>\n",
       "      <th>accident_index</th>\n",
       "      <th></th>\n",
       "      <th></th>\n",
       "      <th></th>\n",
       "      <th></th>\n",
       "      <th></th>\n",
       "      <th></th>\n",
       "      <th></th>\n",
       "      <th></th>\n",
       "      <th></th>\n",
       "      <th></th>\n",
       "      <th></th>\n",
       "      <th></th>\n",
       "      <th></th>\n",
       "      <th></th>\n",
       "      <th></th>\n",
       "      <th></th>\n",
       "      <th></th>\n",
       "      <th></th>\n",
       "    </tr>\n",
       "  </thead>\n",
       "  <tbody>\n",
       "    <tr>\n",
       "      <th>2017010001708</th>\n",
       "      <td>2017</td>\n",
       "      <td>010001708</td>\n",
       "      <td>1</td>\n",
       "      <td>1</td>\n",
       "      <td>2</td>\n",
       "      <td>2</td>\n",
       "      <td>18</td>\n",
       "      <td>4</td>\n",
       "      <td>3</td>\n",
       "      <td>0</td>\n",
       "      <td>0</td>\n",
       "      <td>1</td>\n",
       "      <td>0</td>\n",
       "      <td>0</td>\n",
       "      <td>9</td>\n",
       "      <td>1</td>\n",
       "      <td>2</td>\n",
       "      <td>E01001414</td>\n",
       "    </tr>\n",
       "    <tr>\n",
       "      <th>2017010001708</th>\n",
       "      <td>2017</td>\n",
       "      <td>010001708</td>\n",
       "      <td>2</td>\n",
       "      <td>2</td>\n",
       "      <td>1</td>\n",
       "      <td>1</td>\n",
       "      <td>19</td>\n",
       "      <td>4</td>\n",
       "      <td>2</td>\n",
       "      <td>0</td>\n",
       "      <td>0</td>\n",
       "      <td>0</td>\n",
       "      <td>0</td>\n",
       "      <td>0</td>\n",
       "      <td>2</td>\n",
       "      <td>-1</td>\n",
       "      <td>-1</td>\n",
       "      <td>-1</td>\n",
       "    </tr>\n",
       "    <tr>\n",
       "      <th>2017010001708</th>\n",
       "      <td>2017</td>\n",
       "      <td>010001708</td>\n",
       "      <td>2</td>\n",
       "      <td>3</td>\n",
       "      <td>2</td>\n",
       "      <td>1</td>\n",
       "      <td>18</td>\n",
       "      <td>4</td>\n",
       "      <td>1</td>\n",
       "      <td>0</td>\n",
       "      <td>0</td>\n",
       "      <td>0</td>\n",
       "      <td>0</td>\n",
       "      <td>0</td>\n",
       "      <td>2</td>\n",
       "      <td>-1</td>\n",
       "      <td>-1</td>\n",
       "      <td>-1</td>\n",
       "    </tr>\n",
       "    <tr>\n",
       "      <th>2017010009342</th>\n",
       "      <td>2017</td>\n",
       "      <td>010009342</td>\n",
       "      <td>1</td>\n",
       "      <td>1</td>\n",
       "      <td>2</td>\n",
       "      <td>2</td>\n",
       "      <td>33</td>\n",
       "      <td>6</td>\n",
       "      <td>3</td>\n",
       "      <td>0</td>\n",
       "      <td>0</td>\n",
       "      <td>1</td>\n",
       "      <td>0</td>\n",
       "      <td>0</td>\n",
       "      <td>9</td>\n",
       "      <td>1</td>\n",
       "      <td>5</td>\n",
       "      <td>E01000589</td>\n",
       "    </tr>\n",
       "    <tr>\n",
       "      <th>2017010009344</th>\n",
       "      <td>2017</td>\n",
       "      <td>010009344</td>\n",
       "      <td>3</td>\n",
       "      <td>1</td>\n",
       "      <td>1</td>\n",
       "      <td>2</td>\n",
       "      <td>31</td>\n",
       "      <td>6</td>\n",
       "      <td>3</td>\n",
       "      <td>0</td>\n",
       "      <td>0</td>\n",
       "      <td>0</td>\n",
       "      <td>0</td>\n",
       "      <td>0</td>\n",
       "      <td>9</td>\n",
       "      <td>1</td>\n",
       "      <td>5</td>\n",
       "      <td>E01003756</td>\n",
       "    </tr>\n",
       "  </tbody>\n",
       "</table>\n",
       "</div>"
      ],
      "text/plain": [
       "                accident_year accident_reference  vehicle_reference  \\\n",
       "accident_index                                                        \n",
       "2017010001708            2017          010001708                  1   \n",
       "2017010001708            2017          010001708                  2   \n",
       "2017010001708            2017          010001708                  2   \n",
       "2017010009342            2017          010009342                  1   \n",
       "2017010009344            2017          010009344                  3   \n",
       "\n",
       "                casualty_reference  casualty_class  sex_of_casualty  \\\n",
       "accident_index                                                        \n",
       "2017010001708                    1               2                2   \n",
       "2017010001708                    2               1                1   \n",
       "2017010001708                    3               2                1   \n",
       "2017010009342                    1               2                2   \n",
       "2017010009344                    1               1                2   \n",
       "\n",
       "                age_of_casualty  age_band_of_casualty  casualty_severity  \\\n",
       "accident_index                                                             \n",
       "2017010001708                18                     4                  3   \n",
       "2017010001708                19                     4                  2   \n",
       "2017010001708                18                     4                  1   \n",
       "2017010009342                33                     6                  3   \n",
       "2017010009344                31                     6                  3   \n",
       "\n",
       "                pedestrian_location  pedestrian_movement  car_passenger  \\\n",
       "accident_index                                                            \n",
       "2017010001708                     0                    0              1   \n",
       "2017010001708                     0                    0              0   \n",
       "2017010001708                     0                    0              0   \n",
       "2017010009342                     0                    0              1   \n",
       "2017010009344                     0                    0              0   \n",
       "\n",
       "                bus_or_coach_passenger  pedestrian_road_maintenance_worker  \\\n",
       "accident_index                                                               \n",
       "2017010001708                        0                                   0   \n",
       "2017010001708                        0                                   0   \n",
       "2017010001708                        0                                   0   \n",
       "2017010009342                        0                                   0   \n",
       "2017010009344                        0                                   0   \n",
       "\n",
       "                casualty_type  casualty_home_area_type  casualty_imd_decile  \\\n",
       "accident_index                                                                \n",
       "2017010001708               9                        1                    2   \n",
       "2017010001708               2                       -1                   -1   \n",
       "2017010001708               2                       -1                   -1   \n",
       "2017010009342               9                        1                    5   \n",
       "2017010009344               9                        1                    5   \n",
       "\n",
       "               lsoa_of_casualty  \n",
       "accident_index                   \n",
       "2017010001708         E01001414  \n",
       "2017010001708                -1  \n",
       "2017010001708                -1  \n",
       "2017010009342         E01000589  \n",
       "2017010009344         E01003756  "
      ]
     },
     "execution_count": 26,
     "metadata": {},
     "output_type": "execute_result"
    }
   ],
   "source": [
    "print(\"casualties\")\n",
    "print(\"size=\",casualties.size)\n",
    "print(casualties.shape)\n",
    "casualties.head()"
   ]
  },
  {
   "cell_type": "code",
   "execution_count": 30,
   "metadata": {
    "_uuid": "06b5266e977f07acd3ad0018bd698fce03a17cda",
    "colab": {
     "base_uri": "https://localhost:8080/",
     "height": 51
    },
    "colab_type": "code",
    "id": "WFYs8fhM3cuB",
    "outputId": "90336b75-b590-4ace-bb82-6fd06c84dbd4"
   },
   "outputs": [
    {
     "name": "stdout",
     "output_type": "stream",
     "text": [
      "done joining\n",
      "(1146699, 62)\n"
     ]
    }
   ],
   "source": [
    "accidents = accidents.join(vehicles, how='outer', lsuffix='_left', rsuffix='_right')\n",
    "print(\"done joining\")\n",
    "print(accidents.shape)"
   ]
  },
  {
   "cell_type": "code",
   "execution_count": 31,
   "metadata": {},
   "outputs": [
    {
     "data": {
      "text/plain": [
       "Index(['accident_year_left', 'accident_reference_left',\n",
       "       'location_easting_osgr', 'location_northing_osgr', 'longitude',\n",
       "       'latitude', 'police_force', 'accident_severity', 'number_of_vehicles',\n",
       "       'number_of_casualties', 'date', 'day_of_week', 'time',\n",
       "       'local_authority_district', 'local_authority_ons_district',\n",
       "       'local_authority_highway', 'first_road_class', 'first_road_number',\n",
       "       'road_type', 'speed_limit', 'junction_detail', 'junction_control',\n",
       "       'second_road_class', 'second_road_number',\n",
       "       'pedestrian_crossing_human_control',\n",
       "       'pedestrian_crossing_physical_facilities', 'light_conditions',\n",
       "       'weather_conditions', 'road_surface_conditions',\n",
       "       'special_conditions_at_site', 'carriageway_hazards',\n",
       "       'urban_or_rural_area', 'did_police_officer_attend_scene_of_accident',\n",
       "       'trunk_road_flag', 'lsoa_of_accident_location', 'accident_year_right',\n",
       "       'accident_reference_right', 'vehicle_reference', 'vehicle_type',\n",
       "       'towing_and_articulation', 'vehicle_manoeuvre',\n",
       "       'vehicle_direction_from', 'vehicle_direction_to',\n",
       "       'vehicle_location_restricted_lane', 'junction_location',\n",
       "       'skidding_and_overturning', 'hit_object_in_carriageway',\n",
       "       'vehicle_leaving_carriageway', 'hit_object_off_carriageway',\n",
       "       'first_point_of_impact', 'vehicle_left_hand_drive',\n",
       "       'journey_purpose_of_driver', 'sex_of_driver', 'age_of_driver',\n",
       "       'age_band_of_driver', 'engine_capacity_cc', 'propulsion_code',\n",
       "       'age_of_vehicle', 'generic_make_model', 'driver_imd_decile',\n",
       "       'driver_home_area_type', 'lsoa_of_driver'],\n",
       "      dtype='object')"
      ]
     },
     "execution_count": 31,
     "metadata": {},
     "output_type": "execute_result"
    }
   ],
   "source": [
    "accidents.columns"
   ]
  },
  {
   "cell_type": "code",
   "execution_count": 32,
   "metadata": {},
   "outputs": [
    {
     "data": {
      "text/plain": [
       "longitude                   205089\n",
       "latitude                    205089\n",
       "location_easting_osgr       205073\n",
       "location_northing_osgr      205073\n",
       "accident_year_left          204830\n",
       "                             ...  \n",
       "vehicle_type                111165\n",
       "vehicle_reference           111165\n",
       "accident_reference_right    111165\n",
       "accident_year_right         111165\n",
       "lsoa_of_driver              111165\n",
       "Length: 62, dtype: int64"
      ]
     },
     "execution_count": 32,
     "metadata": {},
     "output_type": "execute_result"
    }
   ],
   "source": [
    "missing= accidents.isna().sum().sort_values(ascending=False)\n",
    "missing"
   ]
  },
  {
   "cell_type": "code",
   "execution_count": 33,
   "metadata": {},
   "outputs": [],
   "source": [
    "accidents = accidents.dropna()"
   ]
  },
  {
   "cell_type": "code",
   "execution_count": 35,
   "metadata": {},
   "outputs": [
    {
     "data": {
      "text/plain": [
       "(830454, 62)"
      ]
     },
     "execution_count": 35,
     "metadata": {},
     "output_type": "execute_result"
    }
   ],
   "source": [
    "missing= accidents.isna().sum().sort_values(ascending=False)\n",
    "missing\n",
    "accidents.shape"
   ]
  },
  {
   "cell_type": "markdown",
   "metadata": {
    "colab_type": "text",
    "id": "GCDV4MoHAW2b"
   },
   "source": [
    "#joining the tables"
   ]
  },
  {
   "cell_type": "markdown",
   "metadata": {
    "_uuid": "033c3bd61ac666e3fc87316f2642aff6dcab1719",
    "colab_type": "text",
    "id": "PCnEsvq93cuG"
   },
   "source": [
    "## Identifying Missing Values\n",
    "\n",
    "In this particular dataset, there are two types of missing values '-1' and 'Nan'. We will invesitigate each column with total missing values.\n",
    "We will not be imputing any mean or median value since the dataset is big enough to perform analysis."
   ]
  },
  {
   "cell_type": "code",
   "execution_count": 36,
   "metadata": {
    "_uuid": "292691d5d1b20bf1664cb13dbda2c982f5563590",
    "colab": {},
    "colab_type": "code",
    "id": "R7vmqghW3cuH"
   },
   "outputs": [],
   "source": [
    "#accidents.drop(['Location_Easting_OSGR', 'Location_Northing_OSGR','LSOA_of_Accident_Location',\n",
    "                #'Junction_Control' ,'2nd_Road_Class'], axis=1, inplace=True)\n",
    "\n",
    "#combining two columns\n",
    "accidents['Date_time'] = accidents['date'] +' '+ accidents['time']\n",
    "\n",
    "for col in accidents.columns:\n",
    "    accidents = (accidents[accidents[col]!=-1])\n",
    "    #print(col ,' ' , x)\n",
    "for col in casualties.columns:\n",
    "    casualties = (casualties[casualties[col]!=-1])\n",
    "\n",
    "accidents['Date_time'] = pd.to_datetime(accidents.Date_time)\n",
    "accidents.drop(['date','time'],axis =1 , inplace=True)\n",
    "accidents.dropna(inplace=True)"
   ]
  },
  {
   "cell_type": "markdown",
   "metadata": {
    "_uuid": "c010b516516f74ec01f0347bee12c2dfe11f8edd",
    "colab_type": "text",
    "id": "L9KBGPue3cuL"
   },
   "source": [
    "Our dataset is clean to do some analysis. We would be using very few columns to do analysis since the dataset is fairly large."
   ]
  },
  {
   "cell_type": "markdown",
   "metadata": {
    "_uuid": "525e94433411de32b1c6b52f778abf07bc1f7883",
    "colab_type": "text",
    "id": "FLCysK8l3cu1"
   },
   "source": [
    "# Machine Learning\n",
    "\n",
    "We will be looking at different columns to figure out predicting about the accidents severity. After we can predict the accident severity, we can make some recommendation to law enforcement for looking into this and be prepared for the future. We can also have more emergency medical services available for those situations."
   ]
  },
  {
   "cell_type": "code",
   "execution_count": 37,
   "metadata": {
    "_uuid": "5626d86298cd35b6ce5367d1331a9dbf279b96fd",
    "colab": {
     "base_uri": "https://localhost:8080/",
     "height": 34
    },
    "colab_type": "code",
    "id": "gpAn3Ab43cu2",
    "outputId": "e5423301-d880-4391-cdcc-7805b8cb8483"
   },
   "outputs": [
    {
     "name": "stdout",
     "output_type": "stream",
     "text": [
      "done\n"
     ]
    }
   ],
   "source": [
    "from sklearn.model_selection import train_test_split\n",
    "from sklearn.linear_model import LogisticRegression\n",
    "from sklearn.metrics import accuracy_score\n",
    "from sklearn.metrics import classification_report\n",
    "from sklearn.tree import DecisionTreeClassifier\n",
    "from sklearn.ensemble import RandomForestClassifier\n",
    "from sklearn.svm import SVC, LinearSVC\n",
    "from sklearn.metrics import log_loss\n",
    "print(\"done\")"
   ]
  },
  {
   "cell_type": "markdown",
   "metadata": {
    "_uuid": "8996af4753d28de07eb8b80690cf813b526ffa8e",
    "colab_type": "text",
    "id": "n3O6MbRD3cu9"
   },
   "source": [
    "## Spliting the data into training data and test data\n",
    "We will also consider few features as predictors for machine learning algorithm."
   ]
  },
  {
   "cell_type": "code",
   "execution_count": 38,
   "metadata": {
    "_uuid": "4ff41e45b4ddcfbf1dc8e3741e5db4e4bd0188c6",
    "colab": {
     "base_uri": "https://localhost:8080/",
     "height": 34
    },
    "colab_type": "code",
    "id": "NGoNxZ8V3cu-",
    "outputId": "845e621d-8197-456c-a5e1-fd6babcbc6e2"
   },
   "outputs": [
    {
     "name": "stdout",
     "output_type": "stream",
     "text": [
      "done\n"
     ]
    }
   ],
   "source": [
    "accident_ml = accidents.drop('accident_severity' ,axis=1)\n",
    "accident_ml = accident_ml[['did_police_officer_attend_scene_of_accident' , 'age_of_driver' ,'vehicle_type', 'age_of_vehicle','day_of_week' , 'weather_conditions' , 'road_surface_conditions'\n",
    "                          , 'light_conditions', 'sex_of_driver' ,'speed_limit']]\n",
    "\n",
    "accident_ml.head()\n",
    "\n",
    "# Split the data into a training and test set.\n",
    "X_train, X_test, y_train, y_test = train_test_split(accident_ml.values, \n",
    "                                              accidents['accident_severity'].values,test_size=0.20, random_state=99)\n",
    "print(\"done\")"
   ]
  },
  {
   "cell_type": "markdown",
   "metadata": {
    "_uuid": "e88f3ee992a1e169244b33a4fd38968ed3b54433",
    "colab_type": "text",
    "id": "ROJkHrk53cvA"
   },
   "source": [
    "## Random Forest"
   ]
  },
  {
   "cell_type": "code",
   "execution_count": 39,
   "metadata": {
    "_uuid": "ddd13f370e56bbde94e945aa600b6feaedf3ffeb",
    "colab": {
     "base_uri": "https://localhost:8080/",
     "height": 221
    },
    "colab_type": "code",
    "id": "nJUWfGm23cvA",
    "outputId": "0e9e57bf-ae01-424a-ac17-8c5ea2462ff6"
   },
   "outputs": [
    {
     "name": "stdout",
     "output_type": "stream",
     "text": [
      "Accuracy 79.22\n",
      "              precision    recall  f1-score   support\n",
      "\n",
      "         1.0   0.000000  0.000000  0.000000       110\n",
      "         2.0   0.268786  0.094130  0.139430      1976\n",
      "         3.0   0.826692  0.947163  0.882837      9463\n",
      "\n",
      "    accuracy                       0.792190     11549\n",
      "   macro avg   0.365160  0.347097  0.340756     11549\n",
      "weighted avg   0.723362  0.792190  0.747233     11549\n",
      "\n",
      "done\n"
     ]
    }
   ],
   "source": [
    "random_forest = RandomForestClassifier(n_estimators=200)\n",
    "random_forest.fit(X_train,y_train)\n",
    "Y_pred = random_forest.predict(X_test)\n",
    "random_forest.score(X_test, y_test)\n",
    "acc_random_forest1 = round(random_forest.score(X_test, y_test) * 100, 2)\n",
    "\n",
    "sk_report = classification_report(\n",
    "    digits=6,\n",
    "    y_true=y_test, \n",
    "    y_pred=Y_pred)\n",
    "print(\"Accuracy\" , acc_random_forest1)\n",
    "print(sk_report)\n",
    "pd.crosstab(y_test, Y_pred, rownames=['Actual'], colnames=['Predicted'], margins=True)\n",
    "\n",
    "print(\"done\")"
   ]
  },
  {
   "cell_type": "code",
   "execution_count": 40,
   "metadata": {
    "colab": {
     "base_uri": "https://localhost:8080/",
     "height": 221
    },
    "colab_type": "code",
    "id": "s5Klt0m_5Fca",
    "outputId": "cb2e8f35-0e14-4fa4-8f04-9387ed0fb264"
   },
   "outputs": [
    {
     "name": "stdout",
     "output_type": "stream",
     "text": [
      "Accuracy 79.22\n",
      "              precision    recall  f1-score   support\n",
      "\n",
      "         1.0   0.000000  0.000000  0.000000       110\n",
      "         2.0   0.268786  0.094130  0.139430      1976\n",
      "         3.0   0.826692  0.947163  0.882837      9463\n",
      "\n",
      "    accuracy                       0.792190     11549\n",
      "   macro avg   0.365160  0.347097  0.340756     11549\n",
      "weighted avg   0.723362  0.792190  0.747233     11549\n",
      "\n",
      "done\n"
     ]
    }
   ],
   "source": [
    "sk_report = classification_report(\n",
    "    digits=6,\n",
    "    y_true=y_test, \n",
    "    y_pred=Y_pred)\n",
    "print(\"Accuracy\" , acc_random_forest1)\n",
    "print(sk_report)\n",
    "pd.crosstab(y_test, Y_pred, rownames=['Actual'], colnames=['Predicted'], margins=True)\n",
    "\n",
    "print(\"done\")"
   ]
  },
  {
   "cell_type": "code",
   "execution_count": 41,
   "metadata": {
    "colab": {
     "base_uri": "https://localhost:8080/",
     "height": 657
    },
    "colab_type": "code",
    "id": "K17fclfH-Yek",
    "outputId": "282f1f41-3bd6-4927-f4bc-339d8271bb66"
   },
   "outputs": [
    {
     "name": "stdout",
     "output_type": "stream",
     "text": [
      "                did_police_officer_attend_scene_of_accident  age_of_driver  \\\n",
      "accident_index                                                               \n",
      "2020370988529                                           1.0           35.0   \n",
      "2020370988529                                           1.0           29.0   \n",
      "2020370989057                                           1.0           49.0   \n",
      "2020370989057                                           1.0           74.0   \n",
      "2020370989765                                           1.0           38.0   \n",
      "\n",
      "                vehicle_type  age_of_vehicle  day_of_week  weather_conditions  \\\n",
      "accident_index                                                                  \n",
      "2020370988529            9.0            14.0          1.0                 2.0   \n",
      "2020370988529            9.0             9.0          1.0                 2.0   \n",
      "2020370989057            9.0             2.0          7.0                 1.0   \n",
      "2020370989057            9.0            20.0          7.0                 1.0   \n",
      "2020370989765            9.0             7.0          2.0                 1.0   \n",
      "\n",
      "                road_surface_conditions  light_conditions  sex_of_driver  \\\n",
      "accident_index                                                             \n",
      "2020370988529                       2.0               1.0            2.0   \n",
      "2020370988529                       2.0               1.0            1.0   \n",
      "2020370989057                       1.0               1.0            1.0   \n",
      "2020370989057                       1.0               1.0            1.0   \n",
      "2020370989765                       1.0               4.0            1.0   \n",
      "\n",
      "                speed_limit  \n",
      "accident_index               \n",
      "2020370988529          30.0  \n",
      "2020370988529          30.0  \n",
      "2020370989057          60.0  \n",
      "2020370989057          60.0  \n",
      "2020370989765          30.0  \n",
      "(46193, 10)\n",
      "[ 1. 62.  9. 20.  7.  1.  1.  1.  2. 20.]\n",
      "done\n"
     ]
    }
   ],
   "source": [
    "#Predict\n",
    "# sample = [7.0,3.2,4.7,1.4]\n",
    "# print(\"done\")\n",
    "# sample.reshape(1, -1)\n",
    "# result = clf.predict(sample).reshape(1, -1)\n",
    "# result.reshape(1,-1)\n",
    "\n",
    "\n",
    "\n",
    "print(accident_ml.head())\n",
    "print(X_train.shape)\n",
    "print(X_train[0])\n",
    "print(\"done\")"
   ]
  },
  {
   "cell_type": "code",
   "execution_count": 42,
   "metadata": {
    "colab": {
     "base_uri": "https://localhost:8080/",
     "height": 181
    },
    "colab_type": "code",
    "id": "4nYTZ1xr-Rby",
    "outputId": "f12ab6c2-ad3e-47ef-ca95-de8f7aa1fe1d"
   },
   "outputs": [
    {
     "name": "stdout",
     "output_type": "stream",
     "text": [
      "[3.]\n"
     ]
    }
   ],
   "source": [
    "Y_pred = random_forest.predict(X_test[365].reshape(1, -1))\n",
    "print(Y_pred)"
   ]
  },
  {
   "cell_type": "markdown",
   "metadata": {
    "_uuid": "ae20ccb692186d35f9f574b66c3265025d25e13c",
    "colab_type": "text",
    "id": "I2JLLhvo3cvC"
   },
   "source": [
    "## Logistic Regression "
   ]
  },
  {
   "cell_type": "code",
   "execution_count": 43,
   "metadata": {
    "_uuid": "96978ce02fb5095b38972f85042ec4e66dce8d38",
    "colab": {},
    "colab_type": "code",
    "id": "hOKPTOgg3cvD"
   },
   "outputs": [
    {
     "name": "stdout",
     "output_type": "stream",
     "text": [
      "Accuracy 81.94\n",
      "              precision    recall  f1-score   support\n",
      "\n",
      "         1.0   0.000000  0.000000  0.000000       110\n",
      "         2.0   0.000000  0.000000  0.000000      1976\n",
      "         3.0   0.819378  1.000000  0.900723      9463\n",
      "\n",
      "    accuracy                       0.819378     11549\n",
      "   macro avg   0.273126  0.333333  0.300241     11549\n",
      "weighted avg   0.671381  0.819378  0.738033     11549\n",
      "\n"
     ]
    },
    {
     "data": {
      "text/html": [
       "<div>\n",
       "<style scoped>\n",
       "    .dataframe tbody tr th:only-of-type {\n",
       "        vertical-align: middle;\n",
       "    }\n",
       "\n",
       "    .dataframe tbody tr th {\n",
       "        vertical-align: top;\n",
       "    }\n",
       "\n",
       "    .dataframe thead th {\n",
       "        text-align: right;\n",
       "    }\n",
       "</style>\n",
       "<table border=\"1\" class=\"dataframe\">\n",
       "  <thead>\n",
       "    <tr style=\"text-align: right;\">\n",
       "      <th>Predicted</th>\n",
       "      <th>3.0</th>\n",
       "      <th>All</th>\n",
       "    </tr>\n",
       "    <tr>\n",
       "      <th>Actual</th>\n",
       "      <th></th>\n",
       "      <th></th>\n",
       "    </tr>\n",
       "  </thead>\n",
       "  <tbody>\n",
       "    <tr>\n",
       "      <th>1.0</th>\n",
       "      <td>110</td>\n",
       "      <td>110</td>\n",
       "    </tr>\n",
       "    <tr>\n",
       "      <th>2.0</th>\n",
       "      <td>1976</td>\n",
       "      <td>1976</td>\n",
       "    </tr>\n",
       "    <tr>\n",
       "      <th>3.0</th>\n",
       "      <td>9463</td>\n",
       "      <td>9463</td>\n",
       "    </tr>\n",
       "    <tr>\n",
       "      <th>All</th>\n",
       "      <td>11549</td>\n",
       "      <td>11549</td>\n",
       "    </tr>\n",
       "  </tbody>\n",
       "</table>\n",
       "</div>"
      ],
      "text/plain": [
       "Predicted    3.0    All\n",
       "Actual                 \n",
       "1.0          110    110\n",
       "2.0         1976   1976\n",
       "3.0         9463   9463\n",
       "All        11549  11549"
      ]
     },
     "execution_count": 43,
     "metadata": {},
     "output_type": "execute_result"
    }
   ],
   "source": [
    "lr = LogisticRegression()\n",
    "lr.fit(X_train, y_train)\n",
    "y_pred = lr.predict(X_test)\n",
    "sk_report = classification_report(\n",
    "     digits=6,\n",
    "     y_true=y_test, \n",
    "     y_pred=y_pred)\n",
    "print(\"Accuracy\", round(accuracy_score(y_pred, y_test)*100,2))\n",
    "print(sk_report)\n",
    "pd.crosstab(y_test, y_pred, rownames=['Actual'], colnames=['Predicted'], margins=True)"
   ]
  },
  {
   "cell_type": "code",
   "execution_count": 46,
   "metadata": {
    "_uuid": "b66350c57786ddac65f80ec4682ee28bf68250cb",
    "colab": {},
    "colab_type": "code",
    "id": "1EenDbbn3cvG"
   },
   "outputs": [
    {
     "name": "stdout",
     "output_type": "stream",
     "text": [
      "Accuracy 70.36\n",
      "              precision    recall  f1-score   support\n",
      "\n",
      "         1.0   0.039062  0.045455  0.042017       110\n",
      "         2.0   0.219202  0.253036  0.234907      1976\n",
      "         3.0   0.833807  0.805347  0.819330      9463\n",
      "\n",
      "    accuracy                       0.703611     11549\n",
      "   macro avg   0.364024  0.367946  0.365418     11549\n",
      "weighted avg   0.721081  0.703611  0.711934     11549\n",
      "\n"
     ]
    },
    {
     "data": {
      "text/html": [
       "<div>\n",
       "<style scoped>\n",
       "    .dataframe tbody tr th:only-of-type {\n",
       "        vertical-align: middle;\n",
       "    }\n",
       "\n",
       "    .dataframe tbody tr th {\n",
       "        vertical-align: top;\n",
       "    }\n",
       "\n",
       "    .dataframe thead th {\n",
       "        text-align: right;\n",
       "    }\n",
       "</style>\n",
       "<table border=\"1\" class=\"dataframe\">\n",
       "  <thead>\n",
       "    <tr style=\"text-align: right;\">\n",
       "      <th>Predicted</th>\n",
       "      <th>1.0</th>\n",
       "      <th>2.0</th>\n",
       "      <th>3.0</th>\n",
       "      <th>All</th>\n",
       "    </tr>\n",
       "    <tr>\n",
       "      <th>Actual</th>\n",
       "      <th></th>\n",
       "      <th></th>\n",
       "      <th></th>\n",
       "      <th></th>\n",
       "    </tr>\n",
       "  </thead>\n",
       "  <tbody>\n",
       "    <tr>\n",
       "      <th>1.0</th>\n",
       "      <td>5</td>\n",
       "      <td>30</td>\n",
       "      <td>75</td>\n",
       "      <td>110</td>\n",
       "    </tr>\n",
       "    <tr>\n",
       "      <th>2.0</th>\n",
       "      <td>32</td>\n",
       "      <td>500</td>\n",
       "      <td>1444</td>\n",
       "      <td>1976</td>\n",
       "    </tr>\n",
       "    <tr>\n",
       "      <th>3.0</th>\n",
       "      <td>91</td>\n",
       "      <td>1751</td>\n",
       "      <td>7621</td>\n",
       "      <td>9463</td>\n",
       "    </tr>\n",
       "    <tr>\n",
       "      <th>All</th>\n",
       "      <td>128</td>\n",
       "      <td>2281</td>\n",
       "      <td>9140</td>\n",
       "      <td>11549</td>\n",
       "    </tr>\n",
       "  </tbody>\n",
       "</table>\n",
       "</div>"
      ],
      "text/plain": [
       "Predicted  1.0   2.0   3.0    All\n",
       "Actual                           \n",
       "1.0          5    30    75    110\n",
       "2.0         32   500  1444   1976\n",
       "3.0         91  1751  7621   9463\n",
       "All        128  2281  9140  11549"
      ]
     },
     "execution_count": 46,
     "metadata": {},
     "output_type": "execute_result"
    }
   ],
   "source": [
    "decision_tree = DecisionTreeClassifier()\n",
    "decision_tree.fit(X_train, y_train)\n",
    "Y_pred = decision_tree.predict(X_test)\n",
    "acc_decision_tree1 = round(decision_tree.score(X_test, y_test) * 100, 2)\n",
    "sk_report = classification_report(digits=6, y_true=y_test, y_pred=Y_pred)\n",
    "print(\"Accuracy\", acc_decision_tree1)\n",
    "print(sk_report)\n",
    "# Confusion Matrix \n",
    "pd.crosstab(y_test, Y_pred, rownames=['Actual'], colnames=['Predicted'], margins=True)"
   ]
  },
  {
   "cell_type": "markdown",
   "metadata": {
    "_uuid": "20e2285ebc104e46ead88fdf348d3c729106999f",
    "colab_type": "text",
    "id": "DDdEXjpj3cvJ"
   },
   "source": [
    "# Hyperparameters tuning for the models\n"
   ]
  },
  {
   "cell_type": "markdown",
   "metadata": {
    "_uuid": "5bdaee73e2ed61b9649792f057c9fc05e2b30108",
    "colab_type": "text",
    "id": "mf-dPXWJ3cvK"
   },
   "source": [
    "### Logistic Regression with Hyperparameter tuning\n"
   ]
  },
  {
   "cell_type": "code",
   "execution_count": 47,
   "metadata": {
    "_uuid": "422c67476c024b857edf2ba9cffb4108bba4d4e9",
    "colab": {},
    "colab_type": "code",
    "id": "7S91jzGr3cvN"
   },
   "outputs": [
    {
     "name": "stdout",
     "output_type": "stream",
     "text": [
      "Accuracy 81.94\n",
      "              precision    recall  f1-score   support\n",
      "\n",
      "         1.0   0.000000  0.000000  0.000000       110\n",
      "         2.0   0.000000  0.000000  0.000000      1976\n",
      "         3.0   0.819378  1.000000  0.900723      9463\n",
      "\n",
      "    accuracy                       0.819378     11549\n",
      "   macro avg   0.273126  0.333333  0.300241     11549\n",
      "weighted avg   0.671381  0.819378  0.738033     11549\n",
      "\n"
     ]
    },
    {
     "data": {
      "text/html": [
       "<div>\n",
       "<style scoped>\n",
       "    .dataframe tbody tr th:only-of-type {\n",
       "        vertical-align: middle;\n",
       "    }\n",
       "\n",
       "    .dataframe tbody tr th {\n",
       "        vertical-align: top;\n",
       "    }\n",
       "\n",
       "    .dataframe thead th {\n",
       "        text-align: right;\n",
       "    }\n",
       "</style>\n",
       "<table border=\"1\" class=\"dataframe\">\n",
       "  <thead>\n",
       "    <tr style=\"text-align: right;\">\n",
       "      <th>Predicted</th>\n",
       "      <th>3.0</th>\n",
       "      <th>All</th>\n",
       "    </tr>\n",
       "    <tr>\n",
       "      <th>Actual</th>\n",
       "      <th></th>\n",
       "      <th></th>\n",
       "    </tr>\n",
       "  </thead>\n",
       "  <tbody>\n",
       "    <tr>\n",
       "      <th>1.0</th>\n",
       "      <td>110</td>\n",
       "      <td>110</td>\n",
       "    </tr>\n",
       "    <tr>\n",
       "      <th>2.0</th>\n",
       "      <td>1976</td>\n",
       "      <td>1976</td>\n",
       "    </tr>\n",
       "    <tr>\n",
       "      <th>3.0</th>\n",
       "      <td>9463</td>\n",
       "      <td>9463</td>\n",
       "    </tr>\n",
       "    <tr>\n",
       "      <th>All</th>\n",
       "      <td>11549</td>\n",
       "      <td>11549</td>\n",
       "    </tr>\n",
       "  </tbody>\n",
       "</table>\n",
       "</div>"
      ],
      "text/plain": [
       "Predicted    3.0    All\n",
       "Actual                 \n",
       "1.0          110    110\n",
       "2.0         1976   1976\n",
       "3.0         9463   9463\n",
       "All        11549  11549"
      ]
     },
     "execution_count": 47,
     "metadata": {},
     "output_type": "execute_result"
    }
   ],
   "source": [
    "from sklearn.linear_model import LogisticRegressionCV\n",
    "lr = LogisticRegressionCV(cv=3, random_state=0,multi_class='multinomial')\n",
    "# # Fit the model on the trainng data.\n",
    "lr.fit(X_train, y_train)\n",
    "y_pred = lr.predict(X_test)\n",
    "sk_report = classification_report(\n",
    "    digits=6,\n",
    "    y_true=y_test,     y_pred=y_pred)\n",
    "print(\"Accuracy\", round(accuracy_score(y_pred, y_test)*100,2))\n",
    "print(sk_report)\n",
    "pd.crosstab(y_test, y_pred, rownames=['Actual'], colnames=['Predicted'], margins=True)"
   ]
  },
  {
   "cell_type": "markdown",
   "metadata": {
    "_uuid": "5365138a8ce876cd45b43a05281cdb863424bad8",
    "colab_type": "text",
    "id": "DbLJ_Tr73cvS"
   },
   "source": [
    "### Decision Tree hyperparameters tuning\n",
    "\n",
    "All we are going to do is find the best values for mininum sample leaf and maximum features to get the best score."
   ]
  },
  {
   "cell_type": "code",
   "execution_count": 48,
   "metadata": {
    "_uuid": "c87f509414eac285236e01fca0ecd8a99d2bdbf8",
    "colab": {},
    "colab_type": "code",
    "id": "mv12EH0U3cvT"
   },
   "outputs": [
    {
     "name": "stdout",
     "output_type": "stream",
     "text": [
      "Accuracy 81.0\n",
      "              precision    recall  f1-score   support\n",
      "\n",
      "         1.0   0.000000  0.000000  0.000000       110\n",
      "         2.0   0.326870  0.059717  0.100984      1976\n",
      "         3.0   0.825617  0.976118  0.894581      9463\n",
      "\n",
      "    accuracy                       0.810027     11549\n",
      "   macro avg   0.384162  0.345278  0.331855     11549\n",
      "weighted avg   0.732419  0.810027  0.750279     11549\n",
      "\n"
     ]
    },
    {
     "data": {
      "text/html": [
       "<div>\n",
       "<style scoped>\n",
       "    .dataframe tbody tr th:only-of-type {\n",
       "        vertical-align: middle;\n",
       "    }\n",
       "\n",
       "    .dataframe tbody tr th {\n",
       "        vertical-align: top;\n",
       "    }\n",
       "\n",
       "    .dataframe thead th {\n",
       "        text-align: right;\n",
       "    }\n",
       "</style>\n",
       "<table border=\"1\" class=\"dataframe\">\n",
       "  <thead>\n",
       "    <tr style=\"text-align: right;\">\n",
       "      <th>Predicted</th>\n",
       "      <th>2.0</th>\n",
       "      <th>3.0</th>\n",
       "      <th>All</th>\n",
       "    </tr>\n",
       "    <tr>\n",
       "      <th>Actual</th>\n",
       "      <th></th>\n",
       "      <th></th>\n",
       "      <th></th>\n",
       "    </tr>\n",
       "  </thead>\n",
       "  <tbody>\n",
       "    <tr>\n",
       "      <th>1.0</th>\n",
       "      <td>17</td>\n",
       "      <td>93</td>\n",
       "      <td>110</td>\n",
       "    </tr>\n",
       "    <tr>\n",
       "      <th>2.0</th>\n",
       "      <td>118</td>\n",
       "      <td>1858</td>\n",
       "      <td>1976</td>\n",
       "    </tr>\n",
       "    <tr>\n",
       "      <th>3.0</th>\n",
       "      <td>226</td>\n",
       "      <td>9237</td>\n",
       "      <td>9463</td>\n",
       "    </tr>\n",
       "    <tr>\n",
       "      <th>All</th>\n",
       "      <td>361</td>\n",
       "      <td>11188</td>\n",
       "      <td>11549</td>\n",
       "    </tr>\n",
       "  </tbody>\n",
       "</table>\n",
       "</div>"
      ],
      "text/plain": [
       "Predicted  2.0    3.0    All\n",
       "Actual                      \n",
       "1.0         17     93    110\n",
       "2.0        118   1858   1976\n",
       "3.0        226   9237   9463\n",
       "All        361  11188  11549"
      ]
     },
     "execution_count": 48,
     "metadata": {},
     "output_type": "execute_result"
    }
   ],
   "source": [
    "decision_tree = DecisionTreeClassifier(min_samples_leaf=12, max_features=4)\n",
    "decision_tree.fit(X_train, y_train)\n",
    "Y_pred = decision_tree.predict(X_test)\n",
    "acc_decision_tree1 = round(decision_tree.score(X_test, y_test) * 100, 2)\n",
    "sk_report = classification_report(\n",
    "    digits=6,\n",
    "    y_true=y_test, \n",
    "     y_pred=Y_pred)\n",
    "print(\"Accuracy\", acc_decision_tree1)\n",
    "print(sk_report)\n",
    "# ### Confusion Matrix \n",
    "pd.crosstab(y_test, Y_pred, rownames=['Actual'], colnames=['Predicted'], margins=True)"
   ]
  },
  {
   "cell_type": "markdown",
   "metadata": {
    "_uuid": "04bc793b2310573e363f2e611cf256373afc6e0f",
    "colab_type": "text",
    "id": "SrEei6d03cvZ"
   },
   "source": [
    "###  Random Forest Hyperparameter tuning\n",
    "First, we will see the default parameters of the random forest model before we tune the parameters."
   ]
  },
  {
   "cell_type": "code",
   "execution_count": 0,
   "metadata": {
    "_uuid": "382bebf8225802f780d951100eeac8b604f7e928",
    "colab": {},
    "colab_type": "code",
    "id": "GblkKqI13cva"
   },
   "outputs": [],
   "source": [
    "random_forest.get_params()"
   ]
  },
  {
   "cell_type": "markdown",
   "metadata": {
    "_uuid": "1a759ccb8a633efec86563b508d9ac08657f87b1",
    "colab_type": "text",
    "id": "jhc1EEAO3cvd"
   },
   "source": [
    "We will implement the grid search using sklearn library. "
   ]
  },
  {
   "cell_type": "code",
   "execution_count": 49,
   "metadata": {
    "_uuid": "5c923e61216c5f4a70177cb46e748ab9fb976765",
    "colab": {},
    "colab_type": "code",
    "id": "6u8VZDfg3cvd"
   },
   "outputs": [
    {
     "name": "stdout",
     "output_type": "stream",
     "text": [
      "Fitting 3 folds for each of 10 candidates, totalling 30 fits\n"
     ]
    },
    {
     "data": {
      "text/plain": [
       "RandomizedSearchCV(cv=3, estimator=RandomForestClassifier(), n_jobs=-1,\n",
       "                   param_distributions={'bootstrap': [True],\n",
       "                                        'max_depth': [80, 90, 100, 110],\n",
       "                                        'max_features': [4, 5],\n",
       "                                        'min_samples_leaf': [5, 10, 15],\n",
       "                                        'min_samples_split': [8, 10, 12],\n",
       "                                        'n_estimators': [100, 200, 300]},\n",
       "                   verbose=2)"
      ]
     },
     "execution_count": 49,
     "metadata": {},
     "output_type": "execute_result"
    }
   ],
   "source": [
    "from sklearn.model_selection import RandomizedSearchCV\n",
    "param_grid = {\n",
    "    'bootstrap': [True],\n",
    "    'max_depth': [80, 90, 100, 110],\n",
    "    'max_features': [4, 5],\n",
    "    'min_samples_leaf': [5, 10, 15],\n",
    "    'min_samples_split': [8, 10, 12],\n",
    "   'n_estimators': [100, 200, 300]\n",
    "}\n",
    "# # Create a based model\n",
    "random_f = RandomForestClassifier()\n",
    "# # Instantiate the grid search model\n",
    "grid_search = RandomizedSearchCV(estimator = random_f, param_distributions = param_grid,cv = 3, n_jobs = -1, verbose = 2)\n",
    "\n",
    "grid_search.fit(X_train,y_train)\n"
   ]
  },
  {
   "cell_type": "markdown",
   "metadata": {
    "_uuid": "7f9440cd53d5f18ef91c80e19fd7593d1a7590f4",
    "colab_type": "text",
    "id": "8aE7VbYK3cvf"
   },
   "source": [
    "## Feature importance\n",
    "We can use Sklearn's random forest library to find out the most important features. We will be plotting in  ascending order so we know what features are most important to predict the accident severity."
   ]
  },
  {
   "cell_type": "code",
   "execution_count": 50,
   "metadata": {
    "_uuid": "8fcb8231e0a2baf72e89f5985c5f20f05da9382c",
    "colab": {},
    "colab_type": "code",
    "id": "zoD0g_Su3cvg"
   },
   "outputs": [
    {
     "data": {
      "text/plain": [
       "<AxesSubplot:>"
      ]
     },
     "execution_count": 50,
     "metadata": {},
     "output_type": "execute_result"
    },
    {
     "data": {
      "image/png": "[encoded data removed]",
      "text/plain": [
       "<Figure size 864x432 with 1 Axes>"
      ]
     },
     "metadata": {
      "image/png": {
       "height": 357,
       "width": 765
      }
     },
     "output_type": "display_data"
    }
   ],
   "source": [
    "plt.figure(figsize=(12,6))\n",
    "feat_importances = pd.Series(random_forest.feature_importances_, index=accident_ml.columns)\n",
    "feat_importances.nlargest(5).plot(kind='barh')"
   ]
  },
  {
   "cell_type": "code",
   "execution_count": 51,
   "metadata": {
    "_uuid": "8a6e8de82ae44d10b8c2ccb687bba2c947be8f95",
    "colab": {},
    "colab_type": "code",
    "id": "VXeh19Yh3cvh"
   },
   "outputs": [
    {
     "name": "stdout",
     "output_type": "stream",
     "text": [
      "Accuracy 82.02\n",
      "              precision    recall  f1-score   support\n",
      "\n",
      "         1.0   0.000000  0.000000  0.000000       110\n",
      "         2.0   0.504587  0.027834  0.052758      1976\n",
      "         3.0   0.823164  0.995139  0.901019      9463\n",
      "\n",
      "    accuracy                       0.820158     11549\n",
      "   macro avg   0.442584  0.340991  0.317926     11549\n",
      "weighted avg   0.760816  0.820158  0.747302     11549\n",
      "\n"
     ]
    },
    {
     "data": {
      "text/html": [
       "<div>\n",
       "<style scoped>\n",
       "    .dataframe tbody tr th:only-of-type {\n",
       "        vertical-align: middle;\n",
       "    }\n",
       "\n",
       "    .dataframe tbody tr th {\n",
       "        vertical-align: top;\n",
       "    }\n",
       "\n",
       "    .dataframe thead th {\n",
       "        text-align: right;\n",
       "    }\n",
       "</style>\n",
       "<table border=\"1\" class=\"dataframe\">\n",
       "  <thead>\n",
       "    <tr style=\"text-align: right;\">\n",
       "      <th>Predicted</th>\n",
       "      <th>2.0</th>\n",
       "      <th>3.0</th>\n",
       "      <th>All</th>\n",
       "    </tr>\n",
       "    <tr>\n",
       "      <th>Actual</th>\n",
       "      <th></th>\n",
       "      <th></th>\n",
       "      <th></th>\n",
       "    </tr>\n",
       "  </thead>\n",
       "  <tbody>\n",
       "    <tr>\n",
       "      <th>1.0</th>\n",
       "      <td>8</td>\n",
       "      <td>102</td>\n",
       "      <td>110</td>\n",
       "    </tr>\n",
       "    <tr>\n",
       "      <th>2.0</th>\n",
       "      <td>55</td>\n",
       "      <td>1921</td>\n",
       "      <td>1976</td>\n",
       "    </tr>\n",
       "    <tr>\n",
       "      <th>3.0</th>\n",
       "      <td>46</td>\n",
       "      <td>9417</td>\n",
       "      <td>9463</td>\n",
       "    </tr>\n",
       "    <tr>\n",
       "      <th>All</th>\n",
       "      <td>109</td>\n",
       "      <td>11440</td>\n",
       "      <td>11549</td>\n",
       "    </tr>\n",
       "  </tbody>\n",
       "</table>\n",
       "</div>"
      ],
      "text/plain": [
       "Predicted  2.0    3.0    All\n",
       "Actual                      \n",
       "1.0          8    102    110\n",
       "2.0         55   1921   1976\n",
       "3.0         46   9417   9463\n",
       "All        109  11440  11549"
      ]
     },
     "execution_count": 51,
     "metadata": {},
     "output_type": "execute_result"
    }
   ],
   "source": [
    "Y_pred = grid_search.predict(X_test)\n",
    "acc_random_forest1 = round(grid_search.score(X_test, y_test) * 100, 2)\n",
    "\n",
    "sk_report = classification_report(\n",
    "    digits=6,\n",
    "    y_true=y_test,      y_pred=Y_pred)\n",
    "print(\"Accuracy\" , acc_random_forest1)\n",
    "print(sk_report)\n",
    "pd.crosstab(y_test, Y_pred, rownames=['Actual'], colnames=['Predicted'], margins=True)"
   ]
  }
 ],
 "metadata": {
  "accelerator": "GPU",
  "colab": {
   "collapsed_sections": [
    "AUiA2nfH3cuM",
    "bO-hPhdD3cuZ",
    "I2JLLhvo3cvC",
    "0wExv_rP3cvF",
    "DDdEXjpj3cvJ",
    "mf-dPXWJ3cvK",
    "DbLJ_Tr73cvS",
    "SrEei6d03cvZ"
   ],
   "name": "colabazuremlFULL-traffic-accidents.ipynb",
   "provenance": [],
   "toc_visible": true,
   "version": "0.3.2"
  },
  "kernelspec": {
   "display_name": "Python 3 (ipykernel)",
   "language": "python",
   "name": "python3"
  },
  "language_info": {
   "codemirror_mode": {
    "name": "ipython",
    "version": 3
   },
   "file_extension": ".py",
   "mimetype": "text/x-python",
   "name": "python",
   "nbconvert_exporter": "python",
   "pygments_lexer": "ipython3",
   "version": "3.9.7"
  }
 },
 "nbformat": 4,
 "nbformat_minor": 1
}
